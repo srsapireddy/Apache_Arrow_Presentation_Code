{
  "nbformat": 4,
  "nbformat_minor": 0,
  "metadata": {
    "colab": {
      "name": "pyarrow.ipynb",
      "provenance": []
    },
    "kernelspec": {
      "name": "python3",
      "display_name": "Python 3"
    },
    "language_info": {
      "name": "python"
    }
  },
  "cells": [
    {
      "cell_type": "code",
      "source": [
        "indices = pa.array([0, 1, 0, 1, 2, 0, None, 2])\n",
        "dictionary = pa.array(['foo', 'bar', 'baz'])\n",
        "dict_array = pa.DictionaryArray.from_arrays(indices, dictionary)\n",
        "dict_array\n",
        " \n"
      ],
      "metadata": {
        "colab": {
          "base_uri": "https://localhost:8080/"
        },
        "id": "u4YVnDmXrbCl",
        "outputId": "4edcb841-65b0-4e74-ccfc-0089d8816eaa"
      },
      "execution_count": 60,
      "outputs": [
        {
          "output_type": "execute_result",
          "data": {
            "text/plain": [
              "<pyarrow.lib.DictionaryArray object at 0x7f9a2e5e9f50>\n",
              "\n",
              "-- dictionary:\n",
              "  [\n",
              "    \"foo\",\n",
              "    \"bar\",\n",
              "    \"baz\"\n",
              "  ]\n",
              "-- indices:\n",
              "  [\n",
              "    0,\n",
              "    1,\n",
              "    0,\n",
              "    1,\n",
              "    2,\n",
              "    0,\n",
              "    null,\n",
              "    2\n",
              "  ]"
            ]
          },
          "metadata": {},
          "execution_count": 60
        }
      ]
    },
    {
      "cell_type": "code",
      "source": [
        "data = [\n",
        "pa.array([1, 2, 3, 4]),\n",
        "pa.array(['foo', 'bar', 'baz', None]),\n",
        "pa.array([True, None, False, True])]"
      ],
      "metadata": {
        "id": "-2VhN9gRrweN"
      },
      "execution_count": 61,
      "outputs": []
    },
    {
      "cell_type": "code",
      "source": [
        "batch = pa.RecordBatch.from_arrays(data, ['f0', 'f1', 'f2'])\n",
        "print(batch)"
      ],
      "metadata": {
        "colab": {
          "base_uri": "https://localhost:8080/"
        },
        "id": "oVfv68VUsO0G",
        "outputId": "03fa65b9-d8d8-4438-d384-7821afd96d4d"
      },
      "execution_count": 62,
      "outputs": [
        {
          "output_type": "stream",
          "name": "stdout",
          "text": [
            "pyarrow.RecordBatch\n",
            "f0: int64\n",
            "f1: string\n",
            "f2: bool\n"
          ]
        }
      ]
    },
    {
      "cell_type": "markdown",
      "source": [
        "Generating Schema"
      ],
      "metadata": {
        "id": "gL3zmFzPuJbx"
      }
    },
    {
      "cell_type": "code",
      "source": [
        "import pyarrow as pa\n",
        "# Create a new field named \"number\" of type int64 that is not nullable.\n",
        "number_field = pa.field('number', pa.int64(), nullable=False)\n",
        "\n",
        "# Create a list of fields for pa.schema()\n",
        "schema_fields = [number_field]\n",
        "\n",
        "# Create a new schema from the fields.\n",
        "schema = pa.schema(schema_fields)\n",
        "\n",
        "# Construct some metadata to explain Fletchgen that it \n",
        "# should allow the FPGA kernel to read from this schema.\n",
        "metadata = {b'arrow_mode': b'read',\n",
        "            b'arrow_name': b'ExampleBatch'}\n",
        "\n",
        "# Add the metadata to the schema\n",
        "schema = schema.add_metadata(metadata)\n",
        "\n",
        "# Show the schema\n",
        "print(schema)\n",
        "\n",
        "# Serialize the schema itself into an Arrow buffer.\n",
        "serialized_schema = schema.serialize()\n",
        "\n",
        "# Write the buffer to a file output stream.\n",
        "pa.output_stream('schema.as').write(serialized_schema);"
      ],
      "metadata": {
        "colab": {
          "base_uri": "https://localhost:8080/"
        },
        "id": "SZ98HkDUsuAM",
        "outputId": "75f8a152-fcfc-40c7-9e31-b8eae45810c2"
      },
      "execution_count": 63,
      "outputs": [
        {
          "output_type": "stream",
          "name": "stdout",
          "text": [
            "number: int64 not null\n",
            "-- schema metadata --\n",
            "arrow_mode: 'read'\n",
            "arrow_name: 'ExampleBatch'\n"
          ]
        },
        {
          "output_type": "stream",
          "name": "stderr",
          "text": [
            "/usr/local/lib/python3.7/dist-packages/IPython/core/interactiveshell.py:2882: FutureWarning: The 'add_metadata' method is deprecated, use 'with_metadata' instead\n",
            "  exec(code_obj, self.user_global_ns, self.user_ns)\n"
          ]
        }
      ]
    },
    {
      "cell_type": "markdown",
      "source": [
        "Creating RecordBatch"
      ],
      "metadata": {
        "id": "9MuePktxuDoA"
      }
    },
    {
      "cell_type": "code",
      "source": [
        "import pyarrow as pa\n",
        "\n",
        "# Open the file created in the previous example as an input stream.\n",
        "stream = pa.input_stream('schema.as')\n",
        "\n",
        "# Read the Arrow schema from the stream.\n",
        "schema = pa.read_schema(stream)\n",
        "\n",
        "# Show contents.\n",
        "print(schema)\n",
        "\n",
        "# Create a list of PyArrow Arrays. Every Array can be seen \n",
        "# as a 'Column' of the RecordBatch we will create.\n",
        "data = [pa.array([1, -3, 3, -7])]\n",
        "\n",
        "# Create a RecordBatch from the Arrays.\n",
        "recordbatch = pa.RecordBatch.from_arrays(data, schema)\n",
        "\n",
        "# Print the first (and only) column of this RecordBatch.\n",
        "print(recordbatch.column(0))\n",
        "\n",
        "# Create an Arrow RecordBatchFileWriter.\n",
        "writer = pa.RecordBatchFileWriter('recordbatch.rb', schema)\n",
        "\n",
        "# Write the RecordBatch.\n",
        "writer.write(recordbatch)\n",
        "\n",
        "# Close the writer.\n",
        "writer.close()"
      ],
      "metadata": {
        "colab": {
          "base_uri": "https://localhost:8080/"
        },
        "id": "K5evFvrWtkv8",
        "outputId": "5a3746af-ea0e-47a3-b683-74038e67ea75"
      },
      "execution_count": 64,
      "outputs": [
        {
          "output_type": "stream",
          "name": "stdout",
          "text": [
            "number: int64 not null\n",
            "-- schema metadata --\n",
            "arrow_mode: 'read'\n",
            "arrow_name: 'ExampleBatch'\n",
            "[\n",
            "  1,\n",
            "  -3,\n",
            "  3,\n",
            "  -7\n",
            "]\n"
          ]
        },
        {
          "output_type": "stream",
          "name": "stderr",
          "text": [
            "/usr/local/lib/python3.7/dist-packages/pyarrow/util.py:46: FutureWarning: pyarrow.read_schema is deprecated as of 0.17.0, please use pyarrow.ipc.read_schema instead.\n",
            "  warnings.warn(msg, FutureWarning)\n",
            "/usr/local/lib/python3.7/dist-packages/ipykernel_launcher.py:17: FutureWarning: Schema passed to names= option, please pass schema= explicitly. Will raise exception in future\n"
          ]
        }
      ]
    },
    {
      "cell_type": "code",
      "source": [
        "# the 0-position fixed-typed array, which must be the same length as the caller\n",
        "xs = pa.array([5,6,7])\n",
        "# the 1-position fixed-type array, same length restriction\n",
        "ys = pa.array([False, False, True])\n",
        "# the types array, which tells the UnionArray which child array to draw from by indx\n",
        "types = pa.array([0, 1, 1], type=pa.int8())\n",
        "# construct the array\n",
        "union_arr = pa.UnionArray.from_sparse(types, [xs, ys])"
      ],
      "metadata": {
        "id": "6bClesRAvqxM"
      },
      "execution_count": 65,
      "outputs": []
    },
    {
      "cell_type": "code",
      "source": [
        "xs = pa.array([5, 6, 7])\n",
        "ys = pa.array([False, True])\n",
        "types = pa.array([0, 1, 1, 0, 0], type=pa.int8())\n",
        "offsets = pa.array([0, 0, 1, 1, 2], type=pa.int32())\n",
        "union_arr = pa.UnionArray.from_dense(types, offsets, [xs, ys])"
      ],
      "metadata": {
        "id": "lyqNonTozecn"
      },
      "execution_count": 66,
      "outputs": []
    },
    {
      "cell_type": "code",
      "source": [
        "indices = pa.array([0, 1, 0, 1, 2, 0, None, 2])\n",
        "dictionary = pa.array(['foo', 'bar', 'baz'])\n",
        "dict_array = pa.DictionaryArray.from_arrays(indices, dictionary)"
      ],
      "metadata": {
        "id": "wa_itH6OziCM"
      },
      "execution_count": 67,
      "outputs": []
    },
    {
      "cell_type": "code",
      "source": [
        "print(dictionary)\n",
        "print(dict_array)"
      ],
      "metadata": {
        "colab": {
          "base_uri": "https://localhost:8080/"
        },
        "id": "LWFuklC7z1nm",
        "outputId": "a2970b6a-62e1-4271-bc4c-37b3bb9ced1a"
      },
      "execution_count": 68,
      "outputs": [
        {
          "output_type": "stream",
          "name": "stdout",
          "text": [
            "[\n",
            "  \"foo\",\n",
            "  \"bar\",\n",
            "  \"baz\"\n",
            "]\n",
            "\n",
            "-- dictionary:\n",
            "  [\n",
            "    \"foo\",\n",
            "    \"bar\",\n",
            "    \"baz\"\n",
            "  ]\n",
            "-- indices:\n",
            "  [\n",
            "    0,\n",
            "    1,\n",
            "    0,\n",
            "    1,\n",
            "    2,\n",
            "    0,\n",
            "    null,\n",
            "    2\n",
            "  ]\n"
          ]
        }
      ]
    },
    {
      "cell_type": "code",
      "source": [
        "data = [\n",
        "     pa.array([1, 2, 3, 4]),\n",
        "     pa.array(['foo', 'bar', 'baz', None]),\n",
        "     pa.array([True, None, False, True])\n",
        "       ]\n",
        "batch = pa.RecordBatch.from_arrays(data, ['f0', 'f1', 'f2'])"
      ],
      "metadata": {
        "id": "DfjU9lDGzkR8"
      },
      "execution_count": 69,
      "outputs": []
    },
    {
      "cell_type": "code",
      "source": [
        "print(batch)"
      ],
      "metadata": {
        "colab": {
          "base_uri": "https://localhost:8080/"
        },
        "id": "KY73Q9UJz8JP",
        "outputId": "3925e4c7-90e5-4a5c-b6e2-ce632b28cc99"
      },
      "execution_count": 70,
      "outputs": [
        {
          "output_type": "stream",
          "name": "stdout",
          "text": [
            "pyarrow.RecordBatch\n",
            "f0: int64\n",
            "f1: string\n",
            "f2: bool\n"
          ]
        }
      ]
    },
    {
      "cell_type": "code",
      "source": [
        "batches = [batch] * 5\n",
        "table = pa.Table.from_batches(batches)"
      ],
      "metadata": {
        "id": "Lr5NCfhJzmJM"
      },
      "execution_count": 71,
      "outputs": []
    },
    {
      "cell_type": "code",
      "source": [
        "import pyarrow as pa\n",
        "from pyarrow import csv\n",
        "\n",
        "nyc = csv.read_csv(\"yellow_tripdata_2015-01.csv\")\n",
        "print(len(nyc))"
      ],
      "metadata": {
        "colab": {
          "base_uri": "https://localhost:8080/"
        },
        "id": "_p2VAlSB1sd9",
        "outputId": "c96a0c01-1793-4066-acf2-a0c64ae6be83"
      },
      "execution_count": 72,
      "outputs": [
        {
          "output_type": "stream",
          "name": "stdout",
          "text": [
            "999\n"
          ]
        }
      ]
    },
    {
      "cell_type": "code",
      "source": [
        "nyc.schema"
      ],
      "metadata": {
        "colab": {
          "base_uri": "https://localhost:8080/"
        },
        "id": "SZiRbUzp10I3",
        "outputId": "3775db87-e50b-4bd7-8098-61cbb160082c"
      },
      "execution_count": 73,
      "outputs": [
        {
          "output_type": "execute_result",
          "data": {
            "text/plain": [
              "VendorID: int64\n",
              "tpep_pickup_datetime: timestamp[s]\n",
              "tpep_dropoff_datetime: timestamp[s]\n",
              "passenger_count: int64\n",
              "trip_distance: double\n",
              "pickup_longitude: double\n",
              "pickup_latitude: double\n",
              "RateCodeID: int64\n",
              "store_and_fwd_flag: string\n",
              "dropoff_longitude: double\n",
              "dropoff_latitude: double\n",
              "payment_type: int64\n",
              "fare_amount: double\n",
              "extra: double\n",
              "mta_tax: double\n",
              "tip_amount: double\n",
              "tolls_amount: double\n",
              "improvement_surcharge: double\n",
              "total_amount: double"
            ]
          },
          "metadata": {},
          "execution_count": 73
        }
      ]
    },
    {
      "cell_type": "code",
      "source": [
        "mmap = pa.memory_map(\"yellow_tripdata_2015-01.csv\")"
      ],
      "metadata": {
        "id": "FHU3vWiK4TqU"
      },
      "execution_count": 74,
      "outputs": []
    },
    {
      "cell_type": "code",
      "source": [
        "mmap"
      ],
      "metadata": {
        "colab": {
          "base_uri": "https://localhost:8080/"
        },
        "id": "yMjZjAx54Ydb",
        "outputId": "2f9e9b45-2dcb-4594-a3bd-249f1897fa98"
      },
      "execution_count": 75,
      "outputs": [
        {
          "output_type": "execute_result",
          "data": {
            "text/plain": [
              "<pyarrow.lib.MemoryMappedFile at 0x7f9a33a06230>"
            ]
          },
          "metadata": {},
          "execution_count": 75
        }
      ]
    },
    {
      "cell_type": "code",
      "source": [
        "record_batches = pa.get_record_batch_size(batch)"
      ],
      "metadata": {
        "colab": {
          "base_uri": "https://localhost:8080/"
        },
        "id": "G7wNF4lX49z0",
        "outputId": "a5b14d94-34c7-4327-9caf-a4bde3823e0a"
      },
      "execution_count": 76,
      "outputs": [
        {
          "output_type": "stream",
          "name": "stderr",
          "text": [
            "/usr/local/lib/python3.7/dist-packages/pyarrow/util.py:46: FutureWarning: pyarrow.get_record_batch_size is deprecated as of 0.17.0, please use pyarrow.ipc.get_record_batch_size instead.\n",
            "  warnings.warn(msg, FutureWarning)\n"
          ]
        }
      ]
    },
    {
      "cell_type": "code",
      "source": [
        "print(record_batches)"
      ],
      "metadata": {
        "colab": {
          "base_uri": "https://localhost:8080/"
        },
        "id": "7eNHdBTI6KDt",
        "outputId": "4ba22e7d-8bcb-4ad0-b00b-0debfb9f1c0c"
      },
      "execution_count": 77,
      "outputs": [
        {
          "output_type": "stream",
          "name": "stdout",
          "text": [
            "352\n"
          ]
        }
      ]
    }
  ]
}